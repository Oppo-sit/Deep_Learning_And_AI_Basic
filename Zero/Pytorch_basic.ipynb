{
 "cells": [
  {
   "cell_type": "code",
   "execution_count": 1,
   "metadata": {},
   "outputs": [],
   "source": [
    "import torch"
   ]
  },
  {
   "cell_type": "code",
   "execution_count": 2,
   "metadata": {},
   "outputs": [],
   "source": [
    "def print_val(x):\n",
    "    print (\"Type: \", type(x))\n",
    "    print (\"Shape: \", x.shape)\n",
    "    print (\"Value: \\n\", x)\n",
    "    print (\" \")"
   ]
  },
  {
   "cell_type": "code",
   "execution_count": 3,
   "metadata": {},
   "outputs": [
    {
     "name": "stdout",
     "output_type": "stream",
     "text": [
      "Type:  <class 'torch.Tensor'>\n",
      "Shape:  torch.Size([2, 3, 2])\n",
      "Value: \n",
      " tensor([[[0.7380, 0.0719],\n",
      "         [0.7183, 0.2576],\n",
      "         [0.6077, 0.6313]],\n",
      "\n",
      "        [[0.2867, 0.1154],\n",
      "         [0.4760, 0.6048],\n",
      "         [0.6593, 0.0499]]])\n",
      " \n",
      "Type:  <class 'torch.Tensor'>\n",
      "Shape:  torch.Size([2, 3])\n",
      "Value: \n",
      " tensor([[ 1.4601, -1.7286, -1.3587],\n",
      "        [ 0.7427, -1.6481, -0.1152]])\n",
      " \n"
     ]
    }
   ],
   "source": [
    "x = torch.rand(2, 3, 2) # uniform random : 0~1, all numbers have same probability\n",
    "print_val(x) # 2x3x2 tensor(3 dimension), value should be 'real number'\n",
    "#type : 'torch.Tensor', numpy -> 'numpy.ndarray'\n",
    "#shape : torch.Size, numpy -> (, )\n",
    "\n",
    "x = torch.randn(2, 3) # Gaussian : random values follow 'Gaussian distribution'\n",
    "print_val(x) # 2x3 tensor(Matrix)"
   ]
  },
  {
   "cell_type": "code",
   "execution_count": 4,
   "metadata": {},
   "outputs": [
    {
     "name": "stdout",
     "output_type": "stream",
     "text": [
      "Type:  <class 'torch.Tensor'>\n",
      "Shape:  torch.Size([4])\n",
      "Value: \n",
      " tensor([1, 0, 3, 2])\n",
      " \n"
     ]
    }
   ],
   "source": [
    "x = torch.randperm(4) # 0~n-1(parameter), resemble with 'rand' function\n",
    "print_val(x) # value should be 'integer'"
   ]
  },
  {
   "cell_type": "code",
   "execution_count": 5,
   "metadata": {},
   "outputs": [
    {
     "name": "stdout",
     "output_type": "stream",
     "text": [
      "Type:  <class 'torch.Tensor'>\n",
      "Shape:  torch.Size([6])\n",
      "Value: \n",
      " tensor([0.0000, 0.5000, 1.0000, 1.5000, 2.0000, 2.5000])\n",
      " \n"
     ]
    }
   ],
   "source": [
    "# divide value from 'start(0)' to 'end(3)' by 'step', and make array in order\n",
    "x = torch.arange(0, 3, step = 0.5)\n",
    "print_val(x)"
   ]
  },
  {
   "cell_type": "code",
   "execution_count": 6,
   "metadata": {},
   "outputs": [
    {
     "name": "stdout",
     "output_type": "stream",
     "text": [
      "Type:  <class 'torch.Tensor'>\n",
      "Shape:  torch.Size([3, 4])\n",
      "Value: \n",
      " tensor([[1., 1., 1., 1.],\n",
      "        [1., 1., 1., 1.],\n",
      "        [1., 1., 1., 1.]])\n",
      " \n",
      "Type:  <class 'torch.Tensor'>\n",
      "Shape:  torch.Size([3, 4])\n",
      "Value: \n",
      " tensor([[0., 0., 0., 0.],\n",
      "        [0., 0., 0., 0.],\n",
      "        [0., 0., 0., 0.]])\n",
      " \n"
     ]
    }
   ],
   "source": [
    "# torch function : ones, zeros\n",
    "print_val(torch.ones(3,4)) # 3x4 matrix tensor\n",
    "print_val(torch.zeros(3,4)) # 3x4 matrix tensor"
   ]
  },
  {
   "cell_type": "code",
   "execution_count": 9,
   "metadata": {},
   "outputs": [
    {
     "name": "stdout",
     "output_type": "stream",
     "text": [
      "Type:  <class 'torch.Tensor'>\n",
      "Shape:  torch.Size([2, 4])\n",
      "Value: \n",
      " tensor([[ 0.0000e+00,  0.0000e+00, -3.2435e+38, -3.5873e-43],\n",
      "        [ 6.2140e-36,  4.5909e-41,  0.0000e+00,  0.0000e+00]])\n",
      " \n"
     ]
    }
   ],
   "source": [
    "print_val(torch.Tensor(2,4)) # make 2x4 matrix tensor, each value is random"
   ]
  },
  {
   "cell_type": "code",
   "execution_count": 10,
   "metadata": {},
   "outputs": [
    {
     "name": "stdout",
     "output_type": "stream",
     "text": [
      "Type:  <class 'torch.Tensor'>\n",
      "Shape:  torch.Size([2])\n",
      "Value: \n",
      " tensor([2., 3.])\n",
      " \n",
      "Type:  <class 'torch.Tensor'>\n",
      "Shape:  torch.Size([2, 2])\n",
      "Value: \n",
      " tensor([[2., 3.],\n",
      "        [3., 4.]])\n",
      " \n"
     ]
    }
   ],
   "source": [
    "print_val(torch.Tensor([2,3])) # make vector tensor following array parameter\n",
    "\n",
    "print_val(torch.Tensor([[2,3], [3,4]])) # make matrix tensor following array parameter"
   ]
  },
  {
   "cell_type": "code",
   "execution_count": 12,
   "metadata": {},
   "outputs": [
    {
     "name": "stdout",
     "output_type": "stream",
     "text": [
      "Type:  <class 'torch.Tensor'>\n",
      "Shape:  torch.Size([2, 3])\n",
      "Value: \n",
      " tensor([[2.0000e+00, 1.2211e+05, 5.6052e-45],\n",
      "        [0.0000e+00, 1.4013e-45, 0.0000e+00]])\n",
      " \n",
      "Type:  <class 'torch.Tensor'>\n",
      "Shape:  torch.Size([2, 3])\n",
      "Value: \n",
      " tensor([[     2, 122112,      0],\n",
      "        [     0,      0,      0]], dtype=torch.int32)\n",
      " \n"
     ]
    }
   ],
   "source": [
    "x = torch.FloatTensor(2,3) # make 'real number/float' type tensor\n",
    "print_val(x)\n",
    "\n",
    "x = x.type_as(torch.IntTensor()) # change tensor from 'float' type to 'Integer' type\n",
    "print_val(x)"
   ]
  },
  {
   "cell_type": "code",
   "execution_count": 13,
   "metadata": {},
   "outputs": [
    {
     "data": {
      "text/plain": [
       "torch.Size([3, 4, 5])"
      ]
     },
     "execution_count": 13,
     "metadata": {},
     "output_type": "execute_result"
    }
   ],
   "source": [
    "# return size of tensor\n",
    "torch.FloatTensor(3, 4, 5).size()"
   ]
  },
  {
   "cell_type": "code",
   "execution_count": 15,
   "metadata": {},
   "outputs": [
    {
     "name": "stdout",
     "output_type": "stream",
     "text": [
      "Type:  <class 'numpy.ndarray'>\n",
      "Shape:  (2, 3)\n",
      "Value: \n",
      " [[          1           0 -1500915632]\n",
      " [        411           0           0]]\n",
      " \n",
      "Type:  <class 'torch.Tensor'>\n",
      "Shape:  torch.Size([2, 3])\n",
      "Value: \n",
      " tensor([[          1,           0, -1500915632],\n",
      "        [        411,           0,           0]], dtype=torch.int32)\n",
      " \n"
     ]
    }
   ],
   "source": [
    "# make 'numpy array' and change to 'torch tensor'\n",
    "import numpy as np\n",
    "np_x = np.ndarray((2,3), dtype = int)\n",
    "print_val(np_x)\n",
    "\n",
    "x = torch.from_numpy(np_x)\n",
    "print_val(x)"
   ]
  },
  {
   "cell_type": "code",
   "execution_count": null,
   "metadata": {},
   "outputs": [],
   "source": []
  }
 ],
 "metadata": {
  "kernelspec": {
   "display_name": "Python 3",
   "language": "python",
   "name": "python3"
  },
  "language_info": {
   "codemirror_mode": {
    "name": "ipython",
    "version": 3
   },
   "file_extension": ".py",
   "mimetype": "text/x-python",
   "name": "python",
   "nbconvert_exporter": "python",
   "pygments_lexer": "ipython3",
   "version": "3.7.10"
  }
 },
 "nbformat": 4,
 "nbformat_minor": 4
}
