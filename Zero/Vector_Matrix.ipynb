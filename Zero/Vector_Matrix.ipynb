{
 "cells": [
  {
   "cell_type": "code",
   "execution_count": 6,
   "metadata": {},
   "outputs": [],
   "source": [
    "import numpy as np"
   ]
  },
  {
   "cell_type": "code",
   "execution_count": 10,
   "metadata": {},
   "outputs": [],
   "source": [
    "# print data type, shape, value of tensor\n",
    "def print_val(x):\n",
    "    print (\"Type: \", type(x))\n",
    "    print (\"Shape: \", x.shape)\n",
    "    print (\"Value: \\n\", x)\n",
    "    print (\" \")"
   ]
  },
  {
   "cell_type": "code",
   "execution_count": 11,
   "metadata": {},
   "outputs": [
    {
     "name": "stdout",
     "output_type": "stream",
     "text": [
      "Type:  <class 'numpy.ndarray'>\n",
      "Shape:  (3,)\n",
      "Value: \n",
      " [1 2 3]\n",
      " \n",
      "Type:  <class 'numpy.ndarray'>\n",
      "Shape:  (3,)\n",
      "Value: \n",
      " [5 2 3]\n",
      " \n"
     ]
    }
   ],
   "source": [
    "# rank 1 tensor : vector\n",
    "x = np.array([1, 2, 3]) # array vector \n",
    "print_val(x)\n",
    "\n",
    "x[0] = 5\n",
    "print_val(x)"
   ]
  },
  {
   "cell_type": "code",
   "execution_count": 12,
   "metadata": {},
   "outputs": [
    {
     "name": "stdout",
     "output_type": "stream",
     "text": [
      "Type:  <class 'numpy.ndarray'>\n",
      "Shape:  (2, 3)\n",
      "Value: \n",
      " [[1 2 3]\n",
      " [4 5 6]]\n",
      " \n",
      "Type:  <class 'numpy.ndarray'>\n",
      "Shape:  (3, 2)\n",
      "Value: \n",
      " [[1. 1.]\n",
      " [1. 1.]\n",
      " [1. 1.]]\n",
      " \n",
      "Type:  <class 'numpy.ndarray'>\n",
      "Shape:  (2, 2)\n",
      "Value: \n",
      " [[0. 0.]\n",
      " [0. 0.]]\n",
      " \n",
      "Type:  <class 'numpy.ndarray'>\n",
      "Shape:  (3, 3)\n",
      "Value: \n",
      " [[1. 0. 0.]\n",
      " [0. 1. 0.]\n",
      " [0. 0. 1.]]\n",
      " \n"
     ]
    }
   ],
   "source": [
    "# rank 2 tensor : matrix\n",
    "a = np.array([[1,2,3], [4,5,6]]) # 2x2 array matrix \n",
    "print_val(a)\n",
    "\n",
    "a = np.ones((3, 2)) # 3x2 ones matrix\n",
    "print_val(a)\n",
    "\n",
    "a = np.zeros((2, 2)) # 2x2 zeros matrix\n",
    "print_val(a)\n",
    "\n",
    "a = np.eye(3,3) # 3x3 identity matrix\n",
    "print_val(a)"
   ]
  },
  {
   "cell_type": "code",
   "execution_count": 16,
   "metadata": {},
   "outputs": [
    {
     "name": "stdout",
     "output_type": "stream",
     "text": [
      "Type:  <class 'numpy.ndarray'>\n",
      "Shape:  (4, 4)\n",
      "Value: \n",
      " [[0.55098516 0.11264428 0.27232978 0.83081197]\n",
      " [0.47617506 0.5900495  0.70921678 0.03869018]\n",
      " [0.02285236 0.65684511 0.07951565 0.26954809]\n",
      " [0.41370377 0.83663729 0.07307894 0.84803473]]\n",
      " \n",
      "Type:  <class 'numpy.ndarray'>\n",
      "Shape:  (4, 4)\n",
      "Value: \n",
      " [[-0.77142342 -0.61203584  0.16159507  1.01871363]\n",
      " [ 1.31501981 -0.0311988  -0.2687291  -2.1599512 ]\n",
      " [-1.92914001 -0.13136564 -0.42783567  0.31126262]\n",
      " [-0.87826634 -1.48053802  1.23549868  0.07934631]]\n",
      " \n"
     ]
    }
   ],
   "source": [
    "# random matrix\n",
    "a = np.random.random((4,4)) # uniform random matrix(0~1, all value has same probability)\n",
    "print_val(a)\n",
    "\n",
    "a = np.random.randn(4,4) # gaussian random matrix(random value following gaussian distribution)\n",
    "print_val(a)"
   ]
  },
  {
   "cell_type": "code",
   "execution_count": 21,
   "metadata": {},
   "outputs": [
    {
     "name": "stdout",
     "output_type": "stream",
     "text": [
      "Type:  <class 'numpy.ndarray'>\n",
      "Shape:  (3, 4)\n",
      "Value: \n",
      " [[ 1  2  3  4]\n",
      " [ 5  6  7  8]\n",
      " [ 9 10 11 12]]\n",
      " \n",
      "Type:  <class 'numpy.ndarray'>\n",
      "Shape:  (2, 2)\n",
      "Value: \n",
      " [[2 3]\n",
      " [6 7]]\n",
      " \n",
      "Type:  <class 'numpy.ndarray'>\n",
      "Shape:  (4,)\n",
      "Value: \n",
      " [5 6 7 8]\n",
      " \n"
     ]
    }
   ],
   "source": [
    "# matrix indexing(slicing)\n",
    "a = np.array([[1,2,3,4], [5,6,7,8], [9,10,11,12]])\n",
    "print_val(a)\n",
    "\n",
    "b = a[:2, 1:3] # make new array by slicing matrix a\n",
    "print_val(b)\n",
    "\n",
    "row1 = a[1, :] # get 2nd row from matrix a\n",
    "print_val(row1)"
   ]
  },
  {
   "cell_type": "code",
   "execution_count": 25,
   "metadata": {},
   "outputs": [
    {
     "name": "stdout",
     "output_type": "stream",
     "text": [
      "Type:  <class 'numpy.ndarray'>\n",
      "Shape:  (2, 2)\n",
      "Value: \n",
      " [[ 6.  8.]\n",
      " [10. 12.]]\n",
      " \n",
      "Type:  <class 'numpy.ndarray'>\n",
      "Shape:  (2, 2)\n",
      "Value: \n",
      " [[ 6.  8.]\n",
      " [10. 12.]]\n",
      " \n",
      "Type:  <class 'numpy.ndarray'>\n",
      "Shape:  (2, 2)\n",
      "Value: \n",
      " [[-4. -4.]\n",
      " [-4. -4.]]\n",
      " \n",
      "Type:  <class 'numpy.ndarray'>\n",
      "Shape:  (2, 2)\n",
      "Value: \n",
      " [[-4. -4.]\n",
      " [-4. -4.]]\n",
      " \n",
      "Type:  <class 'numpy.ndarray'>\n",
      "Shape:  (2, 2)\n",
      "Value: \n",
      " [[ 5. 12.]\n",
      " [21. 32.]]\n",
      " \n",
      "Type:  <class 'numpy.ndarray'>\n",
      "Shape:  (2, 2)\n",
      "Value: \n",
      " [[ 5. 12.]\n",
      " [21. 32.]]\n",
      " \n",
      "Type:  <class 'numpy.ndarray'>\n",
      "Shape:  (2, 2)\n",
      "Value: \n",
      " [[0.2        0.33333333]\n",
      " [0.42857143 0.5       ]]\n",
      " \n",
      "Type:  <class 'numpy.ndarray'>\n",
      "Shape:  (2, 2)\n",
      "Value: \n",
      " [[0.2        0.33333333]\n",
      " [0.42857143 0.5       ]]\n",
      " \n",
      "Type:  <class 'numpy.ndarray'>\n",
      "Shape:  (2, 2)\n",
      "Value: \n",
      " [[1.         1.41421356]\n",
      " [1.73205081 2.        ]]\n",
      " \n"
     ]
    }
   ],
   "source": [
    "# operate elements of two matrix(elementwise operating)\n",
    "m1 = np.array([[1,2], [3,4]], dtype = np.float64)\n",
    "m2 = np.array([[5,6], [7,8]], dtype = np.float64)\n",
    "\n",
    "print_val(m1 + m2) # add each element of m1, m2\n",
    "print_val(np.add(m1, m2)) # use function 'add'\n",
    "\n",
    "print_val(m1 - m2) # subtract each element of m1, m2\n",
    "print_val(np.subtract(m1, m2)) # use function 'subtract'\n",
    "\n",
    "print_val(m1 * m2) # multiply each element of m1, m2\n",
    "print_val(np.multiply(m1, m2)) # use function 'multiply'\n",
    "\n",
    "print_val(m1 / m2) # divide each element of m1, m2\n",
    "print_val(np.divide(m1, m2)) # use function 'divide'\n",
    "\n",
    "print_val(np.sqrt(m1)) # get square root value by each element"
   ]
  },
  {
   "cell_type": "code",
   "execution_count": 31,
   "metadata": {},
   "outputs": [
    {
     "name": "stdout",
     "output_type": "stream",
     "text": [
      "Type:  <class 'numpy.ndarray'>\n",
      "Shape:  (2, 2)\n",
      "Value: \n",
      " [[1 2]\n",
      " [3 4]]\n",
      " \n",
      "Type:  <class 'numpy.ndarray'>\n",
      "Shape:  (2, 2)\n",
      "Value: \n",
      " [[5 6]\n",
      " [7 8]]\n",
      " \n",
      "Type:  <class 'numpy.ndarray'>\n",
      "Shape:  (2,)\n",
      "Value: \n",
      " [ 9 10]\n",
      " \n",
      "Type:  <class 'numpy.ndarray'>\n",
      "Shape:  (2,)\n",
      "Value: \n",
      " [11 12]\n",
      " \n"
     ]
    }
   ],
   "source": [
    "# operate matrix\n",
    "\n",
    "m1 = np.array([[1,2], [3,4]]) # 2x2\n",
    "m2 = np.array([[5,6], [7,8]])\n",
    "v1 = np.array([9,10]) \n",
    "v2 = np.array([11,12])\n",
    "\n",
    "print_val(m1)\n",
    "print_val(m2)\n",
    "print_val(v1)\n",
    "print_val(v2)"
   ]
  },
  {
   "cell_type": "code",
   "execution_count": 32,
   "metadata": {},
   "outputs": [
    {
     "name": "stdout",
     "output_type": "stream",
     "text": [
      "Type:  <class 'numpy.int32'>\n",
      "Shape:  ()\n",
      "Value: \n",
      " 219\n",
      " \n",
      "Type:  <class 'numpy.int32'>\n",
      "Shape:  ()\n",
      "Value: \n",
      " 219\n",
      " \n",
      "Type:  <class 'numpy.ndarray'>\n",
      "Shape:  (2,)\n",
      "Value: \n",
      " [29 67]\n",
      " \n",
      "Type:  <class 'numpy.ndarray'>\n",
      "Shape:  (2,)\n",
      "Value: \n",
      " [29 67]\n",
      " \n",
      "Type:  <class 'numpy.ndarray'>\n",
      "Shape:  (2, 2)\n",
      "Value: \n",
      " [[19 22]\n",
      " [43 50]]\n",
      " \n"
     ]
    }
   ],
   "source": [
    "    # operate 1 'matrix multiplication'\n",
    "print_val(v1.dot(v2)) # v1 = 1x2, v2 = 2x1, numpy array has function 'dot'\n",
    "print_val(np.dot(v1, v2)) # result = 1x1(scalar), vector has flexible choices between vertical one and horizon one\n",
    "\n",
    "print_val(m1.dot(v1)) # m1 = 2x2, v1 = 2x1 -> res = 2x1\n",
    "print_val(np.dot(m1, v1)) \n",
    "\n",
    "print_val(m1.dot(m2)) # m1 = 2x2, m2 = 2x2 -> res 2x2"
   ]
  },
  {
   "cell_type": "code",
   "execution_count": 33,
   "metadata": {},
   "outputs": [
    {
     "name": "stdout",
     "output_type": "stream",
     "text": [
      "Type:  <class 'numpy.ndarray'>\n",
      "Shape:  (2, 2)\n",
      "Value: \n",
      " [[1 2]\n",
      " [3 4]]\n",
      " \n",
      "Type:  <class 'numpy.ndarray'>\n",
      "Shape:  (2, 2)\n",
      "Value: \n",
      " [[1 3]\n",
      " [2 4]]\n",
      " \n"
     ]
    }
   ],
   "source": [
    "    # operate 2 'transpose' : change vectors from row to column(or from column to row)\n",
    "print_val(m1) \n",
    "print_val(m1.T) # ex) 1st row -> 1st column, Nrd row -> Nrd column"
   ]
  },
  {
   "cell_type": "code",
   "execution_count": 36,
   "metadata": {},
   "outputs": [
    {
     "name": "stdout",
     "output_type": "stream",
     "text": [
      "Type:  <class 'numpy.int32'>\n",
      "Shape:  ()\n",
      "Value: \n",
      " 10\n",
      " \n",
      "Type:  <class 'numpy.ndarray'>\n",
      "Shape:  (2,)\n",
      "Value: \n",
      " [4 6]\n",
      " \n",
      "Type:  <class 'numpy.ndarray'>\n",
      "Shape:  (2,)\n",
      "Value: \n",
      " [3 7]\n",
      " \n"
     ]
    }
   ],
   "source": [
    "    # operate 3 'sum'\n",
    "print_val(np.sum(m1)) # sum all elements -> scalar\n",
    "print_val(np.sum(m1, axis=0)) # axis = direction(0 = sum elements by row direction)\n",
    "print_val(np.sum(m1, axis=1)) # 1 = sum elements by column direction\n",
    "\n",
    "# axis : N dimension tensor has N-1 axis\n",
    "    # 0 : most outside dimension\n",
    "    # N-1 : most inside dimension"
   ]
  },
  {
   "cell_type": "code",
   "execution_count": 44,
   "metadata": {},
   "outputs": [
    {
     "name": "stdout",
     "output_type": "stream",
     "text": [
      "[[1 2 3]\n",
      " [4 5 6]]\n",
      "(2, 3)\n",
      " \n",
      "21\n",
      " \n",
      "[5 7 9]\n",
      " \n",
      "[ 6 15]\n"
     ]
    }
   ],
   "source": [
    "m1 = np.array([[1,2,3], [4,5,6]])\n",
    "print (m1)\n",
    "print (m1.shape) # 2x3\n",
    "print(\" \")\n",
    "\n",
    "print (np.sum(m1))\n",
    "print(\" \")\n",
    "print (np.sum(m1, axis=0)) # 1x3\n",
    "print(\" \")\n",
    "print (np.sum(m1, axis=1)) # 1x2"
   ]
  },
  {
   "cell_type": "code",
   "execution_count": 45,
   "metadata": {},
   "outputs": [
    {
     "name": "stdout",
     "output_type": "stream",
     "text": [
      "Type:  <class 'numpy.ndarray'>\n",
      "Shape:  (4, 3)\n",
      "Value: \n",
      " [[ 1  2  3]\n",
      " [ 4  5  6]\n",
      " [ 7  8  9]\n",
      " [10 11 12]]\n",
      " \n",
      "Type:  <class 'numpy.ndarray'>\n",
      "Shape:  (4, 3)\n",
      "Value: \n",
      " [[0 0 0]\n",
      " [0 0 0]\n",
      " [0 0 0]\n",
      " [0 0 0]]\n",
      " \n"
     ]
    }
   ],
   "source": [
    "     # operate 4 'zeros-like'\n",
    "\n",
    "m1 = np.array([[1,2,3],\n",
    "              [4,5,6],\n",
    "             [7,8,9],\n",
    "             [10,11,12]])\n",
    "m2 = np.zeros_like(m1) # m2(zeros-like) is '0' matrix has same shape with m1\n",
    "\n",
    "print_val(m1)\n",
    "print_val(m2)"
   ]
  },
  {
   "cell_type": "code",
   "execution_count": null,
   "metadata": {},
   "outputs": [],
   "source": []
  }
 ],
 "metadata": {
  "kernelspec": {
   "display_name": "Python 3",
   "language": "python",
   "name": "python3"
  },
  "language_info": {
   "codemirror_mode": {
    "name": "ipython",
    "version": 3
   },
   "file_extension": ".py",
   "mimetype": "text/x-python",
   "name": "python",
   "nbconvert_exporter": "python",
   "pygments_lexer": "ipython3",
   "version": "3.8.5"
  }
 },
 "nbformat": 4,
 "nbformat_minor": 4
}
