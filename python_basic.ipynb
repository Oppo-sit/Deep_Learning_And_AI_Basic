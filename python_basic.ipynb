{
 "cells": [
  {
   "cell_type": "code",
   "execution_count": 4,
   "metadata": {},
   "outputs": [
    {
     "name": "stdout",
     "output_type": "stream",
     "text": [
      "Hello, World!\n",
      "정수 : 3, 03, 003, 0003\n",
      "실수: 256, 256.1, 256.13\n",
      " 문자열 : [Hello, World!]\n"
     ]
    }
   ],
   "source": [
    "# basic 1, print\n",
    "\n",
    "print(\"Hello, World!\")\n",
    "\n",
    "x=3\n",
    "print(\"정수 : %01d, %02d, %03d, %04d\" % (x, x, x, x))\n",
    "\n",
    "x=256.128\n",
    "print(\"실수: %.0f, %.1f, %.2f\" % (x, x, x))\n",
    "\n",
    "x = \"Hello, World!\"\n",
    "print(\" 문자열 : [%s]\" % (x))"
   ]
  },
  {
   "cell_type": "code",
   "execution_count": 5,
   "metadata": {},
   "outputs": [
    {
     "name": "stdout",
     "output_type": "stream",
     "text": [
      "Regression는 기계학습 내용입니다.\n",
      "Classification는 기계학습 내용입니다.\n",
      "SVM는 기계학습 내용입니다.\n",
      "Clustering는 기계학습 내용입니다.\n",
      "Demension reduction는 기계학습 내용입니다.\n",
      "NN는 심층학습 내용입니다.\n",
      "CNN는 Covolutional Neural Network입니다.\n",
      "AE는 심층학습 내용입니다.\n",
      "GAN는 심층학습 내용입니다.\n",
      "RNN는 심층학습 내용입니다.\n"
     ]
    }
   ],
   "source": [
    "# basic 2, iteration, conditional statement\n",
    "\n",
    "contents = [\"Regression\", \"Classification\", \"SVM\", \"Clustering\", \"Demension reduction\",\n",
    "            \"NN\", \"CNN\", \"AE\", \"GAN\", \"RNN\"]\n",
    "            \n",
    "for con in contents:\n",
    "    if con in [\"Regression\", \"Classification\", \"SVM\", \"Clustering\", \"Demension reduction\"]:\n",
    "        print(\"%s는 기계학습 내용입니다.\" % con)\n",
    "    elif con in [\"CNN\"]:\n",
    "        print(\"%s는 Covolutional Neural Network입니다.\" % con)\n",
    "    else:\n",
    "        print(\"%s는 심층학습 내용입니다.\" % con)\n"
   ]
  },
  {
   "cell_type": "code",
   "execution_count": 7,
   "metadata": {},
   "outputs": [
    {
     "name": "stdout",
     "output_type": "stream",
     "text": [
      "[0/10]: Regression\n",
      "[1/10]: Classification\n",
      "[2/10]: SVM\n",
      "[3/10]: Clustering\n",
      "[4/10]: Demension reduction\n",
      "[5/10]: NN\n",
      "[6/10]: CNN\n",
      "[7/10]: AE\n",
      "[8/10]: GAN\n",
      "[9/10]: RNN\n"
     ]
    }
   ],
   "source": [
    "# basic 3, iteration and index\n",
    "\n",
    "for (i,con) in enumerate(contents):\n",
    "    print (\"[%d/%d]: %s\" %(i, len(contents), con))"
   ]
  },
  {
   "cell_type": "code",
   "execution_count": 8,
   "metadata": {},
   "outputs": [
    {
     "name": "stdout",
     "output_type": "stream",
     "text": [
      "10.0 + 20.0 = 30.0\n"
     ]
    }
   ],
   "source": [
    "# basic 4, function\n",
    "\n",
    "def sum(a, b):\n",
    "    return a+b\n",
    "\n",
    "x = 10.0\n",
    "y = 20.0\n",
    "print(\"%.1f + %.1f = %.1f\" % (x, y, sum(x, y)))"
   ]
  },
  {
   "cell_type": "code",
   "execution_count": 9,
   "metadata": {},
   "outputs": [
    {
     "name": "stdout",
     "output_type": "stream",
     "text": [
      "[]\n",
      "['a']\n",
      "['a', 123]\n",
      "['a', 123, ['a', 'b']]\n"
     ]
    }
   ],
   "source": [
    "# basic 5, list\n",
    "\n",
    "a = []\n",
    "b = [1, 2, 3]\n",
    "c = [\"Hello\", \",\", \"world\"]\n",
    "d = [1, 2, 3, \"x\", \"y\", \"z\"]\n",
    "x = []\n",
    "\n",
    "print(x)\n",
    "\n",
    "x.append('a')\n",
    "print(x)\n",
    "\n",
    "x.append(123)\n",
    "print(x)\n",
    "\n",
    "x.append([\"a\", \"b\"])\n",
    "print(x)"
   ]
  },
  {
   "cell_type": "code",
   "execution_count": 12,
   "metadata": {},
   "outputs": [
    {
     "name": "stdout",
     "output_type": "stream",
     "text": [
      "{'name': 'SeungMin', 'town': 'Seoul city', 'job': 'student'}\n"
     ]
    }
   ],
   "source": [
    "# basic 6, dictionary\n",
    "\n",
    "dic = dict()\n",
    "dic[\"name\"] = \"SeungMin\"\n",
    "dic[\"town\"] = \"Seoul city\"\n",
    "dic[\"job\"] = \"student\"\n",
    "print(dic)"
   ]
  },
  {
   "cell_type": "code",
   "execution_count": 13,
   "metadata": {},
   "outputs": [
    {
     "name": "stdout",
     "output_type": "stream",
     "text": [
      "SeungMin 학생은 공부합니다.\n",
      "SeungMin 학생은 열심히 공부합니다.\n"
     ]
    }
   ],
   "source": [
    "# basic 7, class\n",
    "\n",
    "class Student:\n",
    "    # initialize(생성자)\n",
    "    def __init__(self, name):\n",
    "        self.name = name\n",
    "    \n",
    "    # method(함수라 생각하면 됨)\n",
    "    def study(self, hard=False):\n",
    "        if hard:\n",
    "            print(\"%s 학생은 열심히 공부합니다.\" % self.name)\n",
    "        else:\n",
    "            print(\"%s 학생은 공부합니다.\" %self.name)\n",
    "            \n",
    "s = Student('SeungMin')\n",
    "s.study()\n",
    "s.study(hard=True)"
   ]
  },
  {
   "cell_type": "code",
   "execution_count": null,
   "metadata": {},
   "outputs": [],
   "source": []
  }
 ],
 "metadata": {
  "kernelspec": {
   "display_name": "Python 3",
   "language": "python",
   "name": "python3"
  },
  "language_info": {
   "codemirror_mode": {
    "name": "ipython",
    "version": 3
   },
   "file_extension": ".py",
   "mimetype": "text/x-python",
   "name": "python",
   "nbconvert_exporter": "python",
   "pygments_lexer": "ipython3",
   "version": "3.8.5"
  }
 },
 "nbformat": 4,
 "nbformat_minor": 4
}
